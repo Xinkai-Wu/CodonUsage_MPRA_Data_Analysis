{
 "cells": [
  {
   "cell_type": "code",
   "execution_count": null,
   "id": "cb4ea148-5ee6-4abf-b552-7ea313d7d695",
   "metadata": {},
   "outputs": [],
   "source": [
    "import pandas as pd"
   ]
  },
  {
   "cell_type": "markdown",
   "id": "dc870aa7-bab1-42ad-9d1e-7b327522bf03",
   "metadata": {},
   "source": [
    "### Combine data from an experiment"
   ]
  },
  {
   "cell_type": "markdown",
   "id": "e6f91c5c-ee37-4eb0-adf5-34bcbbd9ef42",
   "metadata": {},
   "source": [
    "#### Polysome collection sequencing data"
   ]
  },
  {
   "cell_type": "code",
   "execution_count": null,
   "id": "0c266373-74c7-4f4b-bbbf-694e0f6046d6",
   "metadata": {},
   "outputs": [],
   "source": [
    "def mergetwoPart_human(sample):\n",
    "    file1 = './Data/' + sample + '_1-5.Read1.bin.gz'\n",
    "    file2 = './Data/' + sample + '_6-10.Read1.bin.gz'\n",
    "    p15_df = pd.read_csv(file1,sep='\\t',compression='gzip')\n",
    "    p610_df = pd.read_csv(file2,sep='\\t',compression='gzip')\n",
    "    \n",
    "    p15_df = p15_df.iloc[:,:6]\n",
    "    p610_df = p610_df.iloc[:,:6]\n",
    "    p610_df.columns = ['variable','bin6','bin7','bin8','bin9','bin10']\n",
    "    total_df = pd.merge(p15_df,p610_df,on='variable',how='outer')\n",
    "    total_df = total_df.dropna(how='all')\n",
    "    outname = './Data/' + sample + '.Read1.bin.gz'\n",
    "    total_df.to_csv(outname, sep=\"\\t\", index=False,compression='gzip')"
   ]
  },
  {
   "cell_type": "code",
   "execution_count": null,
   "id": "9f1e1904-2305-4355-b3df-c2366846847c",
   "metadata": {},
   "outputs": [],
   "source": [
    "for sample in ['hp1-1','hp1-2','hp2-1','hp2-2']:\n",
    "    mergetwoPart_human(sample)"
   ]
  },
  {
   "cell_type": "markdown",
   "id": "970a00c9-e678-4774-beba-b8fc0598db74",
   "metadata": {},
   "source": [
    "#### FACS sequencing data"
   ]
  },
  {
   "cell_type": "code",
   "execution_count": null,
   "id": "3a024be9-3b7b-45bf-80c9-2362ceb77b27",
   "metadata": {},
   "outputs": [],
   "source": [
    "sample_libs = ['hRNA1','hRNA2','hDNA1','hDNA2']\n",
    "\n",
    "def SampleRawData(lib):\n",
    "    dt1name = './Data/' + lib + '-1.Read1.bin.gz'\n",
    "    dt2name = './Data/' + lib + '-2.Read1.bin.gz'\n",
    "    \n",
    "    dt_1 = pd.read_csv(dt1name,sep='\\t',compression='gzip')\n",
    "    dt_2 = pd.read_csv(dt2name,sep='\\t',compression='gzip')\n",
    "    \n",
    "    dt_1.columns = ['sequence'] + list(map(lambda x: 'Rep1Bin' + str(x), range(1,7)))\n",
    "    dt_2.columns = ['sequence'] + list(map(lambda x: 'Rep2Bin' + str(x), range(1,7)))\n",
    "    \n",
    "    dt = pd.merge(dt_1,dt_2,on='sequence')\n",
    "    dt.index = dt['sequence']\n",
    "    del dt['sequence']\n",
    "    dt[dt<3] = np.nan\n",
    "    dt = dt.dropna()\n",
    "    \n",
    "    outname = './Data/FACS_' + lib + '_RawSeq_df.gz'\n",
    "    dt.to_csv(outname,compression=\"gzip\",sep=\"\\t\")\n",
    "\n",
    "for sample in sample_libs:\n",
    "    SampleRawData(sample)"
   ]
  },
  {
   "cell_type": "markdown",
   "id": "db6e5fcf-dd67-41d4-a04e-d4ebada924c5",
   "metadata": {},
   "source": []
  }
 ],
 "metadata": {
  "kernelspec": {
   "display_name": "Python 3",
   "language": "python",
   "name": "python3"
  },
  "language_info": {
   "codemirror_mode": {
    "name": "ipython",
    "version": 3
   },
   "file_extension": ".py",
   "mimetype": "text/x-python",
   "name": "python",
   "nbconvert_exporter": "python",
   "pygments_lexer": "ipython3",
   "version": "3.8.8"
  }
 },
 "nbformat": 4,
 "nbformat_minor": 5
}
