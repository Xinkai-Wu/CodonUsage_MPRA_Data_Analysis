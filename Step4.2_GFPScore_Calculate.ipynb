{
 "cells": [
  {
   "cell_type": "markdown",
   "id": "c522ad20-2cb3-409c-9c9f-69fe5f76297f",
   "metadata": {},
   "source": [
    "#### GFPScore calculate"
   ]
  },
  {
   "cell_type": "code",
   "execution_count": null,
   "id": "096484e4-4248-453d-8868-ee61c925baed",
   "metadata": {},
   "outputs": [],
   "source": [
    "library(DESeq2)\n",
    "library(lme4)\n",
    "library(data.table)\n",
    "library(MASS)"
   ]
  },
  {
   "cell_type": "code",
   "execution_count": null,
   "id": "17c5d3cd-c6e0-4df4-ba4d-d0c1e271ccbb",
   "metadata": {},
   "outputs": [],
   "source": [
    "# data loading\n",
    "dna_df <- read.table(gzfile('./Data/FACS_hDNA1_RawSeq_df.gz'),\n",
    "                    sep=\"\\t\",header=TRUE)\n",
    "rna_df <- read.table(gzfile('./Data/FACS_hRNA1_RawSeq_df.gz'),\n",
    "                    sep=\"\\t\",header=TRUE)\n",
    "\n",
    "colnames(dna_df) <- paste(\"dna\",colnames(dna_df),sep=\"\")\n",
    "colnames(rna_df) <- paste(\"rna\",colnames(rna_df),sep=\"\")\n",
    "\n",
    "# remove rows with na\n",
    "dna_df <- na.omit(dna_df)\n",
    "rna_df <- na.omit(rna_df)"
   ]
  },
  {
   "cell_type": "code",
   "execution_count": null,
   "id": "490a0202-c8ad-4b40-82a8-a22e0360001c",
   "metadata": {},
   "outputs": [],
   "source": [
    "colData <- data.frame(c(paste(\"d\",1:6, sep=\"\"), paste(\"r\",1:6, sep=\"\")),c(rep(1, 12), rep(2, 12)))\n",
    "colnames(colData) <- c(\"condition\",\"type\")\n",
    "rownames(colData) <- colnames(data)"
   ]
  },
  {
   "cell_type": "code",
   "execution_count": null,
   "id": "5c4c953d-f1b9-4b5c-b440-d918ad637a91",
   "metadata": {},
   "outputs": [],
   "source": [
    "dnarna_df <- merge(dna_df, rna_df, by.x = \"dnasequence\", by.y = \"rnasequence\",all = TRUE)"
   ]
  },
  {
   "cell_type": "code",
   "execution_count": null,
   "id": "7dda07d8-bb09-4029-99d3-97a1eef00322",
   "metadata": {},
   "outputs": [],
   "source": [
    "rownames(dnarna_df) <- as.character(dnarna_df$dnasequence)\n",
    "dnarna_df$dnasequence <- NULL\n",
    "\n",
    "rep1 <- dnarna_df[,colnames(dnarna_df[,grep(\"Rep1\", colnames(dnarna_df))])]\n",
    "rep2 <- dnarna_df[,colnames(dnarna_df[,grep(\"Rep2\", colnames(dnarna_df))])]\n",
    "data <- cbind(rep1, rep2)"
   ]
  },
  {
   "cell_type": "code",
   "execution_count": null,
   "id": "a3b43193-e5ff-48a1-9045-0919e181050e",
   "metadata": {},
   "outputs": [],
   "source": [
    "# remove rows with na\n",
    "data_complete <- na.omit(data)"
   ]
  },
  {
   "cell_type": "code",
   "execution_count": null,
   "id": "7efa6113-2121-49f1-a99a-4d48cbf714e5",
   "metadata": {},
   "outputs": [],
   "source": [
    "# DESeq2 normalize\n",
    "dds <- DESeqDataSetFromMatrix(countData = data_complete, colData = colData, design = ~ 1)\n",
    "dds <- DESeq(dds)\n",
    "dcounts <- round(data.frame(counts(dds, normalized=TRUE)))"
   ]
  },
  {
   "cell_type": "code",
   "execution_count": null,
   "id": "177040f2-57b6-4e83-99ae-06967b404bb7",
   "metadata": {},
   "outputs": [],
   "source": [
    "rep <- dcounts\n",
    "rep$estimate <- 1\n",
    "rep$pval <- 1\n",
    "for(i in 1:nrow(rep)){\n",
    "dat1 <- rbind(data.frame(X=c(1:6, 1:6),Y=as.numeric(rep[i, c(1:6, 13:18)]),f='DNA'),data.frame(X=c(1:6, 1:6),Y=as.numeric(rep[i, c(7:12, 19:24)]),f='RNA'))\n",
    "dat1$r <- c(rep(1, 12), rep(2, 12))\n",
    "model <- glmer.nb(Y~X*f+(1|r),data=dat1)\n",
    "rep$estimate[i] <- coef(summary(model))[4,1] # The numerical values in the \"estimate\" column represent the GFPScore.\n",
    "rep$pval[i] <- coef(summary(model))[4,4]\n",
    "cat(i, \"\\n\")}\n",
    "rep$q <- p.adjust(rep$pval)\n",
    "\n",
    "write.table(rep, file=\"./Result/FACS_Region1_GLM_Result.txt\", sep=\"\\t\", quote=F, col.names=NA)"
   ]
  },
  {
   "cell_type": "markdown",
   "id": "8a688cb6-d6ce-473a-b752-b767f71b152e",
   "metadata": {},
   "source": []
  },
  {
   "cell_type": "code",
   "execution_count": null,
   "id": "e4d43a68-5c7e-4f8c-9046-b3562fe233d2",
   "metadata": {},
   "outputs": [],
   "source": []
  }
 ],
 "metadata": {
  "kernelspec": {
   "display_name": "R",
   "language": "R",
   "name": "ir"
  },
  "language_info": {
   "name": ""
  }
 },
 "nbformat": 4,
 "nbformat_minor": 5
}
