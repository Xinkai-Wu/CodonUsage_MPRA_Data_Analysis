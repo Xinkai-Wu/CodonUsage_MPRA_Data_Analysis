{
 "cells": [
  {
   "cell_type": "markdown",
   "id": "698a216c-d771-4703-a2e7-8cfd39d2b33a",
   "metadata": {},
   "source": [
    "#### RiboScore calculate"
   ]
  },
  {
   "cell_type": "code",
   "execution_count": null,
   "id": "b703f513-e684-4cad-b332-ccd0c7a353e9",
   "metadata": {},
   "outputs": [],
   "source": [
    "import pandas as pd"
   ]
  },
  {
   "cell_type": "code",
   "execution_count": null,
   "id": "4b8d7b85-0741-4900-9446-f5ea1afa5df2",
   "metadata": {},
   "outputs": [],
   "source": [
    "# human\n",
    "hp1_1 = pd.read_csv('./Data/hp1-1.Read1.bin.gz',sep='\\t')\n",
    "hp1_1_ = hp1_1.iloc[:,1:]\n",
    "hp1_1_colsum = hp1_1_.sum(axis=0).reset_index()\n",
    "hp1_1_colsum.columns = ['category','umi']\n",
    "\n",
    "hp1_2 = pd.read_csv('./Data/hp1-2.Read1.bin.gz',sep='\\t')\n",
    "hp1_2_ = hp1_2.iloc[:,1:]\n",
    "hp1_2_colsum = hp1_2_.sum(axis=0).reset_index()\n",
    "hp1_2_colsum.columns = ['category','umi']\n",
    "\n",
    "hp2_1 = pd.read_csv('./Data/hp2-1.Read1.bin.gz',sep='\\t')\n",
    "hp2_1_ = hp2_1.iloc[:,1:]\n",
    "hp2_1_colsum = hp2_1_.sum(axis=0).reset_index()\n",
    "hp2_1_colsum.columns = ['category','umi']\n",
    "\n",
    "hp2_2 = pd.read_csv('./Data/hp2-2.Read1.bin.gz',sep='\\t')\n",
    "hp2_2_ = hp2_2.iloc[:,1:]\n",
    "hp2_2_colsum = hp2_2_.sum(axis=0).reset_index()\n",
    "hp2_2_colsum.columns = ['category','umi']"
   ]
  },
  {
   "cell_type": "code",
   "execution_count": null,
   "id": "d6062cce-f492-46fd-966a-df024386523a",
   "metadata": {},
   "outputs": [],
   "source": [
    "# filter low expressed sequence\n",
    "df = hp1_1.copy()\n",
    "tmp_df = df.iloc[:,1:]\n",
    "tmp_df[tmp_df < 3] = np.nan\n",
    "tmp_df.insert(0, 'variable',df['variable'])\n",
    "hp1_1 = tmp_df\n",
    "\n",
    "df = hp1_2.copy()\n",
    "tmp_df = df.iloc[:,1:]\n",
    "tmp_df[tmp_df < 3] = np.nan\n",
    "tmp_df.insert(0, 'variable',df['variable'])\n",
    "hp1_2 = tmp_df\n",
    "\n",
    "df = hp2_1.copy()\n",
    "tmp_df = df.iloc[:,1:]\n",
    "tmp_df[tmp_df < 6] = np.nan\n",
    "tmp_df.insert(0, 'variable',df['variable'])\n",
    "hp2_1 = tmp_df\n",
    "\n",
    "df = hp2_2.copy()\n",
    "tmp_df = df.iloc[:,1:]\n",
    "tmp_df[tmp_df < 6] = np.nan\n",
    "tmp_df.insert(0, 'variable',df['variable'])\n",
    "hp2_2 = tmp_df"
   ]
  },
  {
   "cell_type": "code",
   "execution_count": null,
   "id": "152e5b25-cb46-45c9-93bc-339d76698536",
   "metadata": {},
   "outputs": [],
   "source": [
    "df_1 = hp1_1.dropna(thresh=10)\n",
    "df_1.columns = ['sequence'] + list(map(lambda x: 'Rep1Bin' + str(x), range(1,11)))\n",
    "df_2 = hp1_2.dropna(thresh=10)\n",
    "df_2.columns = ['sequence'] + list(map(lambda x: 'Rep2Bin' + str(x), range(1,11)))\n",
    "merge_df = pd.merge(df_1,df_2,on='sequence')\n",
    "print(\"hp1 sequence count: \" + str(merge_df.shape[0]))\n",
    "merge_df.index = merge_df['sequence']\n",
    "del merge_df['sequence']\n",
    "merge_df = merge_df.fillna(0)\n",
    "merge_df.to_csv(\"./Polysomes_hp1_RawSeq_df.gz\",compression=\"gzip\",sep=\"\\t\")\n",
    "\n",
    "df_1 = hp5_1.dropna(thresh=10)\n",
    "df_1.columns = ['sequence'] + list(map(lambda x: 'Rep1Bin' + str(x), range(1,11)))\n",
    "df_2 = hp5_2.dropna(thresh=10)\n",
    "df_2.columns = ['sequence'] + list(map(lambda x: 'Rep2Bin' + str(x), range(1,11)))\n",
    "merge_df = pd.merge(df_1,df_2,on='sequence')\n",
    "print(\"hp2 sequence count: \" + str(merge_df.shape[0]))\n",
    "merge_df.index = merge_df['sequence']\n",
    "del merge_df['sequence']\n",
    "merge_df = merge_df.fillna(0)\n",
    "merge_df.to_csv(\"./Data/Polysomes_hp2_RawSeq_df.gz\",compression=\"gzip\",sep=\"\\t\")"
   ]
  },
  {
   "cell_type": "markdown",
   "id": "f458410f-ca44-4acc-809a-6897f84c9144",
   "metadata": {},
   "source": [
    "##### Normalization"
   ]
  },
  {
   "cell_type": "raw",
   "id": "4f606cd5-6fd9-41ba-864a-ef6bd1f0fe7d",
   "metadata": {},
   "source": [
    "# \"\"\"R\n",
    "# library(\"DESeq2\")\n",
    "# sampleTable <- read.table(gzfile(\"./Data/polysomes_human_sample_table.gz\"),sep=\"\\t\",header=TRUE)\n",
    "\n",
    "# p_df <- read.table(gzfile(\"./Data/Polysomes_hp1_RawSeq_df.gz\"),sep=\"\\t\",header=TRUE)\n",
    "# rownames(p_df) = p_df$sequence\n",
    "# p_df$sequence <- NULL\n",
    "# dds <- DESeqDataSetFromMatrix(countData = p_df, colData = sampleTable, design = ~ condition)\n",
    "# dds <- estimateSizeFactors(dds)\n",
    "# sizeFactors(dds)\n",
    "# normalized_counts <- counts(dds, normalized=TRUE)\n",
    "# write.table(normalized_counts, file=\"./Result/Polysomes_hp1_Normalized_df.txt\", sep=\"\\t\", quote=F, col.names=NA)\n",
    "\n",
    "# p_df <- read.table(gzfile(\"./Data/Polysomes_hp2_RawSeq_df.gz\"),sep=\"\\t\",header=TRUE)\n",
    "# rownames(p_df) = p_df$sequence\n",
    "# p_df$sequence <- NULL\n",
    "# dds <- DESeqDataSetFromMatrix(countData = p_df, colData = sampleTable, design = ~ condition)\n",
    "# dds <- estimateSizeFactors(dds)\n",
    "# sizeFactors(dds)\n",
    "# normalized_counts <- counts(dds, normalized=TRUE)\n",
    "# write.table(normalized_counts, file=\"./Result/Polysomes_hp2_Normalized_df.txt\", sep=\"\\t\", quote=F, col.names=NA)\n",
    "# \"\"\""
   ]
  },
  {
   "cell_type": "code",
   "execution_count": null,
   "id": "ec5bc544-ad15-4cb6-be02-2374588fb1ba",
   "metadata": {},
   "outputs": [],
   "source": [
    "Normalized_hp1_df = pd.read_csv(\"./Result/Polysomes_hp1_Normalized_df.txt\",sep=\"\\t\")\n",
    "Normalized_hp2_df = pd.read_csv(\"./Result/Polysomes_hp2_Normalized_df.txt\",sep=\"\\t\")"
   ]
  },
  {
   "cell_type": "code",
   "execution_count": null,
   "id": "1cf3227f-8a92-48de-a40e-19f7bb9ed52c",
   "metadata": {},
   "outputs": [],
   "source": [
    "# drop Bin1 of region 2\n",
    "del Normalized_hp2_df['Rep1Bin1']\n",
    "del Normalized_hp2_df['Rep2Bin1']\n",
    "\n",
    "Normalized_hp1_df.index = Normalized_hp1_df['Unnamed: 0']\n",
    "del Normalized_hp1_df['Unnamed: 0']\n",
    "Normalized_hp2_df.index = Normalized_hp2_df['Unnamed: 0']\n",
    "del Normalized_hp2_df['Unnamed: 0']"
   ]
  },
  {
   "cell_type": "code",
   "execution_count": null,
   "id": "2ce3ceb8-8c00-410e-811b-23adec2f654b",
   "metadata": {},
   "outputs": [],
   "source": [
    "# human region 1\n",
    "Polysomes_DESeq2Normalized_df = Normalized_hp1_df.copy()\n",
    "Ribosome_df = pd.DataFrame([[0,0,0,0,0,1,1,2,3,4]]*Polysomes_DESeq2Normalized_df.shape[0],\n",
    "                           columns = list(map(lambda x: 'Bin' + str(x), range(1,11))),index=Polysomes_DESeq2Normalized_df.index)\n",
    "Poly_Norm_rep1 = Polysomes_DESeq2Normalized_df.iloc[:,0:10]\n",
    "Poly_Norm_rep2 = Polysomes_DESeq2Normalized_df.iloc[:,10:20]\n",
    "Poly_Norm_rep1.columns = list(map(lambda x: 'Bin' + str(x), range(1,11)))\n",
    "Poly_Norm_rep2.columns = list(map(lambda x: 'Bin' + str(x), range(1,11)))\n",
    "\n",
    "Poly_Norm_df_rowsum = Poly_Norm_rep1.sum(axis=1)\n",
    "Poly_Norm_Fraction = Poly_Norm_rep1.div(Poly_Norm_df_rowsum,axis=0)\n",
    "Poly_Norm_df_Ribosome = Poly_Norm_Fraction.mul(Ribosome_df)\n",
    "Poly_Norm_df_Ribosome_rowsum = Poly_Norm_df_Ribosome.sum(axis=1)\n",
    "Poly_Ribosome_Score_df = Poly_Norm_df_Ribosome_rowsum.reset_index()\n",
    "Poly_Ribosome_Score_df.columns = ['sequence','RiboScore']\n",
    "Poly_Ribosome_Score_df.to_csv(\"./Result/Ploysomes_hp1_1_RiboScore.csv\",sep=\"\\t\",index=False)\n",
    "\n",
    "Poly_Norm_df_rowsum = Poly_Norm_rep2.sum(axis=1)\n",
    "Poly_Norm_Fraction = Poly_Norm_rep2.div(Poly_Norm_df_rowsum,axis=0)\n",
    "Poly_Norm_df_Ribosome = Poly_Norm_Fraction.mul(Ribosome_df)\n",
    "Poly_Norm_df_Ribosome_rowsum = Poly_Norm_df_Ribosome.sum(axis=1)\n",
    "Poly_Ribosome_Score_df = Poly_Norm_df_Ribosome_rowsum.reset_index()\n",
    "Poly_Ribosome_Score_df.columns = ['sequence','RiboScore']\n",
    "Poly_Ribosome_Score_df.to_csv(\"./Result/Ploysomes_hp1_2_RiboScore.csv\",sep=\"\\t\",index=False)\n",
    "\n",
    "# human region 2\n",
    "Polysomes_DESeq2Normalized_df = Normalized_hp2_df.copy()\n",
    "Ribosome_df = pd.DataFrame([[0,0,0,0,1,1,2,3,4]]*Polysomes_DESeq2Normalized_df.shape[0],\n",
    "                           columns = list(map(lambda x: 'Bin' + str(x), range(2,11))),index=Polysomes_DESeq2Normalized_df.index)\n",
    "Poly_Norm_rep1 = Polysomes_DESeq2Normalized_df.iloc[:,0:9]\n",
    "Poly_Norm_rep2 = Polysomes_DESeq2Normalized_df.iloc[:,9:18]\n",
    "Poly_Norm_rep1.columns = list(map(lambda x: 'Bin' + str(x), range(2,11)))\n",
    "Poly_Norm_rep2.columns = list(map(lambda x: 'Bin' + str(x), range(2,11)))\n",
    "\n",
    "Poly_Norm_df_rowsum = Poly_Norm_rep1.sum(axis=1)\n",
    "Poly_Norm_Fraction = Poly_Norm_rep1.div(Poly_Norm_df_rowsum,axis=0)\n",
    "Poly_Norm_df_Ribosome = Poly_Norm_Fraction.mul(Ribosome_df)\n",
    "Poly_Norm_df_Ribosome_rowsum = Poly_Norm_df_Ribosome.sum(axis=1)\n",
    "Poly_Ribosome_Score_df = Poly_Norm_df_Ribosome_rowsum.reset_index()\n",
    "Poly_Ribosome_Score_df.columns = ['sequence','RiboScore']\n",
    "Poly_Ribosome_Score_df.to_csv(\"./Result/Ploysomes_hp2_1_RiboScore.csv\",sep=\"\\t\",index=False)\n",
    "\n",
    "Poly_Norm_df_rowsum = Poly_Norm_rep2.sum(axis=1)\n",
    "Poly_Norm_Fraction = Poly_Norm_rep2.div(Poly_Norm_df_rowsum,axis=0)\n",
    "Poly_Norm_df_Ribosome = Poly_Norm_Fraction.mul(Ribosome_df)\n",
    "Poly_Norm_df_Ribosome_rowsum = Poly_Norm_df_Ribosome.sum(axis=1)\n",
    "Poly_Ribosome_Score_df = Poly_Norm_df_Ribosome_rowsum.reset_index()\n",
    "Poly_Ribosome_Score_df.columns = ['sequence','RiboScore']\n",
    "Poly_Ribosome_Score_df.to_csv(\"./Result/Ploysomes_hp2_2_RiboScore.csv\",sep=\"\\t\",index=False)"
   ]
  },
  {
   "cell_type": "markdown",
   "id": "7f470c39-f18a-4465-9649-4207b70f3c0b",
   "metadata": {},
   "source": []
  },
  {
   "cell_type": "code",
   "execution_count": null,
   "id": "6005804b-971e-4a78-a924-7267f02a299c",
   "metadata": {},
   "outputs": [],
   "source": []
  }
 ],
 "metadata": {
  "kernelspec": {
   "display_name": "Python 3",
   "language": "python",
   "name": "python3"
  },
  "language_info": {
   "codemirror_mode": {
    "name": "ipython",
    "version": 3
   },
   "file_extension": ".py",
   "mimetype": "text/x-python",
   "name": "python",
   "nbconvert_exporter": "python",
   "pygments_lexer": "ipython3",
   "version": "3.8.8"
  }
 },
 "nbformat": 4,
 "nbformat_minor": 5
}
